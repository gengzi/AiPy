{
 "cells": [
  {
   "cell_type": "code",
   "execution_count": null,
   "id": "initial_id",
   "metadata": {
    "collapsed": true
   },
   "outputs": [],
   "source": [
    "import subprocess\n",
    "\n",
    "model_path = \"/mnt/e/models/ollama/DeepSeek-R1-Distill-Qwen-1.5B-NexaQuant.gguf\"\n",
    "server_path = \"/mnt/e/ruanjian/llama-b4751-bin-win-avx-x64/llama-server.exe\"\n",
    "\n",
    "try:\n",
    "    subprocess.run([server_path, \"--m\", model_path], check=True)\n",
    "except subprocess.CalledProcessError as e:\n",
    "    print(f\"Error: {e}\")"
   ]
  }
 ],
 "metadata": {
  "kernelspec": {
   "display_name": "Python 3",
   "language": "python",
   "name": "python3"
  },
  "language_info": {
   "codemirror_mode": {
    "name": "ipython",
    "version": 2
   },
   "file_extension": ".py",
   "mimetype": "text/x-python",
   "name": "python",
   "nbconvert_exporter": "python",
   "pygments_lexer": "ipython2",
   "version": "2.7.6"
  }
 },
 "nbformat": 4,
 "nbformat_minor": 5
}
